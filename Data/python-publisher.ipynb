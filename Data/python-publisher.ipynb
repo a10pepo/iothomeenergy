{
 "cells": [
  {
   "cell_type": "code",
   "execution_count": 1,
   "metadata": {},
   "outputs": [
    {
     "name": "stdout",
     "output_type": "stream",
     "text": [
      "Requirement already satisfied: paho-mqtt in c:\\users\\pono\\appdata\\local\\continuum\\anaconda3\\envs\\mqtt\\lib\\site-packages (1.5.0)\n"
     ]
    }
   ],
   "source": [
    "!pip install paho-mqtt"
   ]
  },
  {
   "cell_type": "code",
   "execution_count": 3,
   "metadata": {},
   "outputs": [],
   "source": [
    "def readTemp():\n",
    "    return round(random.uniform(0,100),2)\n",
    "\n",
    "def readHumidity():\n",
    "    return round(random.uniform(0,100),2)\n",
    "\n",
    "def readLight():\n",
    "    return round(random.uniform(0,100),2)"
   ]
  },
  {
   "cell_type": "code",
   "execution_count": 35,
   "metadata": {},
   "outputs": [
    {
     "name": "stdout",
     "output_type": "stream",
     "text": [
      "Message sent 0\n",
      "{\"temperature\": 86.38, \"humidity\": 70.05, \"light\": 68.55, \"sensor_time\": 1603204644840}\n",
      "Message sent 1\n",
      "{\"temperature\": 90.07, \"humidity\": 21.41, \"light\": 31.66, \"sensor_time\": 1603204654843}\n",
      "Message sent 2\n",
      "{\"temperature\": 28.54, \"humidity\": 94.53, \"light\": 33.69, \"sensor_time\": 1603204664846}\n",
      "Message sent 3\n",
      "{\"temperature\": 97.55, \"humidity\": 58.99, \"light\": 25.76, \"sensor_time\": 1603204674848}\n",
      "Message sent 4\n",
      "{\"temperature\": 51.48, \"humidity\": 87.2, \"light\": 53.74, \"sensor_time\": 1603204684850}\n",
      "Message sent 5\n",
      "{\"temperature\": 33.86, \"humidity\": 13.31, \"light\": 56.84, \"sensor_time\": 1603204694851}\n",
      "Message sent 6\n",
      "{\"temperature\": 87.78, \"humidity\": 52.43, \"light\": 23.43, \"sensor_time\": 1603204704853}\n",
      "Message sent 7\n",
      "{\"temperature\": 10.77, \"humidity\": 62.09, \"light\": 67.0, \"sensor_time\": 1603204714855}\n",
      "Message sent 8\n",
      "{\"temperature\": 77.41, \"humidity\": 63.21, \"light\": 38.77, \"sensor_time\": 1603204724860}\n",
      "Message sent 9\n",
      "{\"temperature\": 55.37, \"humidity\": 75.93, \"light\": 51.14, \"sensor_time\": 1603204734864}\n"
     ]
    }
   ],
   "source": [
    "import paho.mqtt.client as mqtt\n",
    "import random\n",
    "import time\n",
    "import datetime\n",
    "import time\n",
    "import json\n",
    "\n",
    "\n",
    "broker_address = \"localhost\"\n",
    "client = mqtt.Client('Cliente1') # Creación del cliente\n",
    "client.connect(broker_address)\n",
    "topic = \"device/1/data\"\n",
    "    \n",
    "for i in range (0,10):    \n",
    "    temp=readTemp()\n",
    "    humi=readHumidity()\n",
    "    light=readLight()\n",
    "    strtemp=int(round(time.time() * 1000))\n",
    "    data=dict(temperature=temp,humidity=humi,light=light,sensor_time=strtemp)   \n",
    "    data_json=json.dumps(data)\n",
    "    client.publish(topic,data_json)\n",
    "    print(\"Message sent %d\"%i)\n",
    "    print(data_json)\n",
    "    time.sleep(10)"
   ]
  },
  {
   "cell_type": "code",
   "execution_count": null,
   "metadata": {},
   "outputs": [],
   "source": []
  }
 ],
 "metadata": {
  "kernelspec": {
   "display_name": "Python 3",
   "language": "python",
   "name": "python3"
  },
  "language_info": {
   "codemirror_mode": {
    "name": "ipython",
    "version": 3
   },
   "file_extension": ".py",
   "mimetype": "text/x-python",
   "name": "python",
   "nbconvert_exporter": "python",
   "pygments_lexer": "ipython3",
   "version": "3.7.7"
  }
 },
 "nbformat": 4,
 "nbformat_minor": 4
}
