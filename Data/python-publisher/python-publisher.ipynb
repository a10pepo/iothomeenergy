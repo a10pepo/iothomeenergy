{
 "cells": [
  {
   "cell_type": "code",
   "execution_count": 1,
   "metadata": {},
   "outputs": [
    {
     "name": "stdout",
     "output_type": "stream",
     "text": [
      "Requirement already satisfied: paho-mqtt in c:\\users\\pono\\appdata\\local\\continuum\\anaconda3\\envs\\mqtt\\lib\\site-packages (1.5.0)\n"
     ]
    }
   ],
   "source": [
    "!pip install paho-mqtt"
   ]
  },
  {
   "cell_type": "code",
   "execution_count": 3,
   "metadata": {},
   "outputs": [],
   "source": [
    "def readTemp():\n",
    "    return round(random.uniform(0,100),2)\n",
    "\n",
    "def readHumidity():\n",
    "    return round(random.uniform(0,100),2)\n",
    "\n",
    "def readLight():\n",
    "    return round(random.uniform(0,100),2)"
   ]
  },
  {
   "cell_type": "code",
   "execution_count": 25,
   "metadata": {},
   "outputs": [
    {
     "name": "stdout",
     "output_type": "stream",
     "text": [
      "Message sent 0\n",
      "Message sent 10\n"
     ]
    }
   ],
   "source": [
    "import paho.mqtt.client as mqtt\n",
    "import random\n",
    "import time\n",
    "import datetime\n",
    "import json\n",
    "\n",
    "\n",
    "broker_address = \"localhost\"\n",
    "client = mqtt.Client('Cliente1') # Creación del cliente\n",
    "client.connect(broker_address)\n",
    "topic = \"device/1/data\"\n",
    "    \n",
    "for i in (0:10):    \n",
    "    temp=readTemp()\n",
    "    humi=readHumidity()\n",
    "    light=readLight()\n",
    "    strtemp=str(datetime.datetime.now().time())\n",
    "    data=dict(temperature=temp,humidity=humi,light=light,sensor_time=strtemp)   \n",
    "    data_json=json.dumps(data)\n",
    "    client.publish(topic,data_json)\n",
    "    print(\"Message sent %d\"%i)\n",
    "    time.sleep(10)"
   ]
  },
  {
   "cell_type": "code",
   "execution_count": null,
   "metadata": {},
   "outputs": [],
   "source": []
  }
 ],
 "metadata": {
  "kernelspec": {
   "display_name": "Python 3",
   "language": "python",
   "name": "python3"
  },
  "language_info": {
   "codemirror_mode": {
    "name": "ipython",
    "version": 3
   },
   "file_extension": ".py",
   "mimetype": "text/x-python",
   "name": "python",
   "nbconvert_exporter": "python",
   "pygments_lexer": "ipython3",
   "version": "3.7.7"
  }
 },
 "nbformat": 4,
 "nbformat_minor": 4
}
